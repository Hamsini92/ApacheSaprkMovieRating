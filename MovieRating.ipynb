{
 "cells": [
  {
   "cell_type": "code",
   "execution_count": 48,
   "metadata": {
    "collapsed": true
   },
   "outputs": [],
   "source": [
    "from pyspark import SparkConf, SparkContext"
   ]
  },
  {
   "cell_type": "code",
   "execution_count": 49,
   "metadata": {},
   "outputs": [],
   "source": [
    "#creation of a python dictionary.Later the movie ID can be converted into movie name \n",
    "def loadMovieNames():\n",
    "    movieNames = {}\n",
    "    with open(\"/Users/hamsinisankaran/Downloads/ml-100k/u.item\",encoding='ISO-8859-1') as f:\n",
    "        for line in f:\n",
    "            fields = line.split('|')\n",
    "            movieNames[int(fields[0])] = fields[1]\n",
    "    return movieNames"
   ]
  },
  {
   "cell_type": "code",
   "execution_count": 50,
   "metadata": {
    "collapsed": true
   },
   "outputs": [],
   "source": [
    "#take each line of u.data and convert into movieId and rating (1.0).This way we can add up all the ratings and divide \n",
    "#by the total ratings and find out the worst movie listings \n",
    "def parseInput(line):\n",
    "    fields = line.split()\n",
    "    return (int(fields[1]), (float(fields[2]), 1.0))"
   ]
  },
  {
   "cell_type": "code",
   "execution_count": 52,
   "metadata": {},
   "outputs": [
    {
     "name": "stdout",
     "output_type": "stream",
     "text": [
      "Amityville: Dollhouse (1996) 1.0\n",
      "Somebody to Love (1994) 1.0\n",
      "Every Other Weekend (1990) 1.0\n",
      "Homage (1995) 1.0\n",
      "3 Ninjas: High Noon At Mega Mountain (1998) 1.0\n",
      "Bird of Prey (1996) 1.0\n",
      "Power 98 (1995) 1.0\n",
      "Beyond Bedlam (1993) 1.0\n",
      "Falling in Love Again (1980) 1.0\n",
      "T-Men (1947) 1.0\n"
     ]
    }
   ],
   "source": [
    "#main function \n",
    "if __name__ == \"__main__\":\n",
    "    #The main script creates the sparkContext \n",
    "    conf = SparkConf().setAppName(\"WorstMovies\")\n",
    "    #sc = SparkContext(conf = conf)\n",
    "    \n",
    "#load up the movie ID and the \n",
    "movieNames = loadMovieNames()\n",
    "\n",
    "#load up the raw movie data \n",
    "lines = sc.textFile(\"/Users/hamsinisankaran/Downloads/ml-100k/u.data\")\n",
    "\n",
    "#convert to movie id and rating 1.0 \n",
    "movieRatings = lines.map(parseInput)\n",
    "\n",
    "#reduce to movie ID, sumofRatings and total ratings \n",
    "ratingsTotalandCount = movieRatings.reduceByKey(lambda movie1, movie2: (movie1[0] + movie2[0], movie1[1] + movie2[1] ))\n",
    "\n",
    "#map to movie ID and average rating \n",
    "averageRatings = ratingsTotalandCount.mapValues(lambda totalandCount : totalandCount[0]/ totalandCount[1])\n",
    "\n",
    "#sort by average rating\n",
    "sortedmovies = averageRatings.sortBy(lambda x : x[1])\n",
    "\n",
    "#take the top 10 results\n",
    "results = sortedmovies.take(10)\n",
    "\n",
    "#print them out \n",
    "for result in results:\n",
    "    print(movieNames[result[0]], result[1])\n"
   ]
  }
 ],
 "metadata": {
  "kernelspec": {
   "display_name": "Python 3",
   "language": "python",
   "name": "python3"
  }
 },
 "nbformat": 4,
 "nbformat_minor": 2
}
